{
 "cells": [
  {
   "cell_type": "markdown",
   "metadata": {},
   "source": [
    "# 基本原理\n",
    "一种求解微分方程的数值方法，一种离散近似  \n",
    "考虑一个例子\n",
    "\\begin{equation}\n",
    "\\left\\{\n",
    "\\begin{aligned}\n",
    "& u^{'}(x)+c(x)u(x)=f(x),x\\in [a,b]\\\\\n",
    "& u(x = a)=d\n",
    "\\end{aligned}\n",
    "\\right.\n",
    "\\end{equation}"
   ]
  },
  {
   "cell_type": "markdown",
   "metadata": {},
   "source": [
    "不难想到用导数定义去处理微分项（确实，就是想到了我也想不到下面的步骤= =）\n",
    "$$ u^{'}(x)=\\lim \\limits_{\\triangle x \\to 0} \\frac{u(x+\\triangle x)-u(x)}{\\triangle x} \\tag{2}$$ \n",
    "上式表面我们用割线斜率近似替代切线斜率，在步长取极限时二者应当相等。"
   ]
  },
  {
   "cell_type": "markdown",
   "metadata": {},
   "source": [
    "顺着（2）的思路，将区间离散化，并且每个步长为h\n",
    "$$ u_i^{'}=\\frac{1}{h}u_{i+1}-u_{i} i=0,1....N-1 \\tag{3} $$\n",
    "将(3)回代(1)式，\n",
    "\\begin{equation}\n",
    "\\left \\{\n",
    "\\begin{aligned}\n",
    " \\frac{(u_{i+1}-u_i)}{h}+c(x_i)u_i=f(x_i) \\tag{4}\\\\\n",
    " u_0=d\n",
    "\\end{aligned}\n",
    "\\right.\n",
    "\\end{equation}\n",
    "$$ u_{i+1}=(1-hc_i)u_i+hf_i;u_0=d,i=0,1,2,3....N-1 \\tag{5} $$"
   ]
  }
 ],
 "metadata": {
  "kernelspec": {
   "display_name": "Python 3.9.13 64-bit",
   "language": "python",
   "name": "python3"
  },
  "language_info": {
   "name": "python",
   "version": "3.9.13"
  },
  "orig_nbformat": 4,
  "vscode": {
   "interpreter": {
    "hash": "4cff3abf1678755e0069fd79299a535fe1940bcd71a6b01d9f4386710b2b163f"
   }
  }
 },
 "nbformat": 4,
 "nbformat_minor": 2
}
